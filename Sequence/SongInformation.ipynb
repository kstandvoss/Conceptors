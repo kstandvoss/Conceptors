{
 "cells": [
  {
   "cell_type": "code",
   "execution_count": 1,
   "metadata": {
    "collapsed": false
   },
   "outputs": [],
   "source": [
    "import tgt\n",
    "import pandas\n",
    "import numpy as np\n",
    "import matplotlib.mlab as mlab\n",
    "import matplotlib.pyplot as plt\n",
    "import os\n",
    "\n",
    "BIRDDB_PATH = \"../birddb/\""
   ]
  },
  {
   "cell_type": "code",
   "execution_count": 3,
   "metadata": {
    "collapsed": false
   },
   "outputs": [],
   "source": [
    "def encodeSyllables(sylls):\n",
    "    \"Encode the syllables in numbers for plotting\"\n",
    "    i = 1\n",
    "    syllables = {}\n",
    "    for syll in sylls:\n",
    "        syllables[syll] = i\n",
    "        i = i+1\n",
    "    return syllables"
   ]
  },
  {
   "cell_type": "code",
   "execution_count": 4,
   "metadata": {
    "collapsed": false
   },
   "outputs": [],
   "source": [
    "def plotSong(songData, syllEncoding):\n",
    "    \"This function should plot the syllable sequence of a song\"\n",
    "    \n",
    "    for song in songData:\n",
    "        yValue = syllEncoding[song.text]\n",
    "        plt.plot([song.start_time, song.end_time], [yValue, yValue], 'k-', lw=2)\n",
    "    plt.show()"
   ]
  },
  {
   "cell_type": "code",
   "execution_count": 10,
   "metadata": {
    "collapsed": true
   },
   "outputs": [],
   "source": [
    "# Get the CAVI textgrid files\n",
    "\n",
    "db = pandas.read_csv(os.path.join(BIRDDB_PATH, \"birddb.csv\"))\n",
    "\n",
    "cavi = db[db['Species_short_name'] == 'CAVI']\n",
    "tg_files = cavi['textgrid_filename']"
   ]
  },
  {
   "cell_type": "code",
   "execution_count": 6,
   "metadata": {
    "collapsed": true
   },
   "outputs": [],
   "source": [
    "\n",
    "intervals = []\n",
    "chatter_syllables = []\n",
    "\n",
    "skipped_files = 0\n",
    "skipped_intervals = 0\n",
    "total_intervals = 0\n",
    "\n",
    "for f_name in tg_files:\n",
    "    path = os.path.join(BIRDDB_PATH, f_name)\n",
    "    try:\n",
    "        tg = tgt.read_textgrid(path)\n",
    "    except Exception:\n",
    "        skipped_files += 1\n",
    "\n",
    "    interval_list = tg.tiers[0].intervals\n",
    "\n",
    "    skipped_ints = 0\n",
    "    for prev, curr in zip(interval_list, interval_list[1:]):\n",
    "        duration = curr.start_time - prev.end_time\n",
    "        \n",
    "        total_intervals += 1\n",
    "        if duration < 10:\n",
    "            intervals.append(duration)\n",
    "        else:\n",
    "            skipped_intervals += 1\n",
    "        \n",
    "        if duration < 0.7:\n",
    "            chatter_syllables.append( (prev.text, curr.text))"
   ]
  },
  {
   "cell_type": "code",
   "execution_count": null,
   "metadata": {
    "collapsed": false
   },
   "outputs": [
    {
     "name": "stdout",
     "output_type": "stream",
     "text": [
      "{'cm': 24, 'bh': 21, 'aq': 5, 'af': 29, 'cd': 25, 'ao': 3, 'aa': 19, 'bi': 8, 'cf': 30, 'ce': 23, 'bm': 22, 'as': 6, 'ar': 14, 'ak': 1, 'dl': 12, 'ac': 10, 'ec': 28}\n",
      "12\n"
     ]
    }
   ],
   "source": [
    "#Test functions to compile the code\n",
    "syllList = encodeSyllables([x.text for x in interval_list])\n",
    "print(syllList)\n",
    "print(syllList[\"dl\"])\n",
    "plotSong(interval_list, syllList)"
   ]
  },
  {
   "cell_type": "code",
   "execution_count": null,
   "metadata": {
    "collapsed": false
   },
   "outputs": [],
   "source": [
    "[x.text for x in interval_list]"
   ]
  }
 ],
 "metadata": {
  "kernelspec": {
   "display_name": "Python 3",
   "language": "python",
   "name": "python3"
  },
  "language_info": {
   "codemirror_mode": {
    "name": "ipython",
    "version": 3
   },
   "file_extension": ".py",
   "mimetype": "text/x-python",
   "name": "python",
   "nbconvert_exporter": "python",
   "pygments_lexer": "ipython3",
   "version": "3.5.1"
  }
 },
 "nbformat": 4,
 "nbformat_minor": 0
}
