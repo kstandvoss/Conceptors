{
 "cells": [
  {
   "cell_type": "markdown",
   "metadata": {},
   "source": [
    "### BirdSong Generation\n",
    "\n",
    "This script should provide data that we can later on learn with our conceptors. In order for it to work install another package for this script to work:\n",
    "\n",
    "`pip3 install rstr`\n",
    "\n",
    "The syllables that are used for generation are taken from the Cavi and can be found here: [Syllables](http://taylor0.biology.ucla.edu/birdDBQuery/Files/Files_Keys/CAVI_2012/CaViPhrases2012.pdf)\n"
   ]
  },
  {
   "cell_type": "code",
   "execution_count": null,
   "metadata": {
    "collapsed": false
   },
   "outputs": [],
   "source": [
    "import numpy as np\n",
    "import random\n",
    "import rstr\n",
    "\n",
    "num_syll = 6 #number of syllables in bird song\n",
    "\n",
    "# syllables to be used for the songs\n",
    "syll_a = '(a[a-u])'\n",
    "syll_b = '(b[a-su-z])'\n",
    "syll_c = '(c[a-r])'\n",
    "syll_d = '(d[a-s])'\n",
    "syll_e = '(e[a-u])'\n",
    "syll_f = '(f[a-p])'\n",
    "\n",
    "# list of the syllable regex\n",
    "sylls = [ eval('syll_' + str(chr(i))) for i in range(ord('a'), ord('f'))]\n",
    "\n",
    "# generate random sequence of syllables\n",
    "cavi_1 = \"(\" + \" \".join([sylls[i] for i in np.random.choice(range(len(sylls)), num_syll, replace=True)]) + \" )\"\n",
    "cavi_2 = \"(\" + \" \".join([sylls[i] for i in np.random.choice(range(len(sylls)), num_syll, replace=True)]) + \" )\"\n",
    "\n",
    "\n",
    "# Replace the * to get sequences with fixed length by {n}\n",
    "cavi_1_song = rstr.xeger(cavi_1+'*')\n",
    "print('Song1: ',cavi_1_song)\n",
    "cavi_2_song = rstr.xeger(cavi_2+'*')\n",
    "print('Song2: ',cavi_2_song)"
   ]
  },
  {
   "cell_type": "code",
   "execution_count": null,
   "metadata": {
    "collapsed": true
   },
   "outputs": [],
   "source": []
  }
 ],
 "metadata": {
  "kernelspec": {
   "display_name": "Python 3",
   "language": "python",
   "name": "python3"
  },
  "language_info": {
   "codemirror_mode": {
    "name": "ipython",
    "version": 3
   },
   "file_extension": ".py",
   "mimetype": "text/x-python",
   "name": "python",
   "nbconvert_exporter": "python",
   "pygments_lexer": "ipython3",
   "version": "3.5.1"
  }
 },
 "nbformat": 4,
 "nbformat_minor": 0
}
