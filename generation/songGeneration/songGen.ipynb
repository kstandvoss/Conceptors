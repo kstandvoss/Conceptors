{
 "cells": [
  {
   "cell_type": "markdown",
   "metadata": {},
   "source": [
    "### BirdSong Generation\n",
    "\n",
    "This script should provide data that we can later on learn with our conceptors. In order for it to work install another package for this script to work:\n",
    "\n",
    "`pip3 install rstr`\n",
    "\n",
    "The syllables that are used for generation are taken from the Cavi and can be found here: [Syllables](http://taylor0.biology.ucla.edu/birdDBQuery/Files/Files_Keys/CAVI_2012/CaViPhrases2012.pdf)\n"
   ]
  },
  {
   "cell_type": "code",
   "execution_count": 10,
   "metadata": {
    "collapsed": false
   },
   "outputs": [
    {
     "name": "stdout",
     "output_type": "stream",
     "text": [
      "Song1:  ['bu', 'at', 'em', 'ba', 'ah', 'bs', 'bv', 'ag', 'ee', 'bd', 'as', 'bi', 'bs', 'ah', 'en', 'bj', 'at', 'ba', 'bv', 'au', 'ej', 'bz', 'ad', 'bl']\n",
      "Song2:  ['al', 'cd', 'aa', 'cm', 'cg', 'ab', 'as', 'cg', 'ar', 'ci', 'co', 'aj', 'ak', 'cm', 'ae', 'cr', 'ce', 'ai', 'ai', 'cj', 'aa', 'cm', 'ch', 'at', 'an', 'cm', 'aq', 'cp', 'ch', 'ad', 'aj', 'cn', 'af', 'ce', 'ci', 'ai']\n"
     ]
    }
   ],
   "source": [
    "import numpy as np\n",
    "import random\n",
    "import rstr\n",
    "\n",
    "\n",
    "def generate_songs(num_syll1, num_syll2):\n",
    "    \"\"\"\n",
    "    The method gives back two lists of syllables, the songs have\n",
    "    been generated with\n",
    "    \"\"\"\n",
    "    syll_gramma = 6\n",
    "    \n",
    "    # list of the syllable regex\n",
    "    sylls = [eval('syll_' + str(chr(i))) for i in range(ord('a'), ord('f'))]\n",
    "\n",
    "    # generate random sequence of syllables\n",
    "    cavi_1 = \"(\" + \" \".join([sylls[i] for i in np.random.choice(range(len(sylls)), syll_gramma, replace=True)]) + \" )\"\n",
    "    cavi_2 = \"(\" + \" \".join([sylls[i] for i in np.random.choice(range(len(sylls)), syll_gramma, replace=True)]) + \" )\"\n",
    "    \n",
    "    return rstr.xeger(cavi_1+'{'+str(num_syll1)+'}').split(), rstr.xeger(cavi_2+'{'+str(num_syll2)+'}').split()\n",
    "    \n",
    "# syllables to be used for the songs\n",
    "syll_a = '(a[a-u])'\n",
    "syll_b = '(b[a-su-z])'\n",
    "syll_c = '(c[a-r])'\n",
    "syll_d = '(d[a-s])'\n",
    "syll_e = '(e[a-u])'\n",
    "syll_f = '(f[a-p])'\n",
    "\n",
    "cavi_1_song, cavi_2_song = generate_songs(4, 6)\n",
    "\n",
    "print('Song1: ',cavi_1_song)\n",
    "print('Song2: ',cavi_2_song)"
   ]
  },
  {
   "cell_type": "code",
   "execution_count": null,
   "metadata": {
    "collapsed": true
   },
   "outputs": [],
   "source": []
  }
 ],
 "metadata": {
  "kernelspec": {
   "display_name": "Python 3",
   "language": "python",
   "name": "python3"
  },
  "language_info": {
   "codemirror_mode": {
    "name": "ipython",
    "version": 3
   },
   "file_extension": ".py",
   "mimetype": "text/x-python",
   "name": "python",
   "nbconvert_exporter": "python",
   "pygments_lexer": "ipython3",
   "version": "3.5.1"
  }
 },
 "nbformat": 4,
 "nbformat_minor": 0
}
