{
 "cells": [
  {
   "cell_type": "code",
   "execution_count": 5,
   "metadata": {
    "collapsed": false
   },
   "outputs": [
    {
     "name": "stdout",
     "output_type": "stream",
     "text": [
      "/Users/asuckro/Projects/Conceptors/generation/principalComponentSyrinx\n",
      "aa_0_1563.wav\n",
      "aa_0_1639.wav\n",
      "aa_0_1675.wav\n",
      "aa_0_1676.wav\n",
      "aa_0_1698.wav\n"
     ]
    }
   ],
   "source": [
    "import os\n",
    "\n",
    "path = '../../birddb/syll/'\n",
    "\n",
    "counter = 5\n",
    "\n",
    "print(os.getcwd())\n",
    "\n",
    "for root, dirs, files in os.walk(path):\n",
    "    for name in files:\n",
    "        if name.endswith(\".wav\") and counter < 10:\n",
    "            counter = counter + 1;\n",
    "            print(name)"
   ]
  },
  {
   "cell_type": "code",
   "execution_count": null,
   "metadata": {
    "collapsed": true
   },
   "outputs": [],
   "source": []
  }
 ],
 "metadata": {
  "kernelspec": {
   "display_name": "Python 3",
   "language": "python",
   "name": "python3"
  },
  "language_info": {
   "codemirror_mode": {
    "name": "ipython",
    "version": 3
   },
   "file_extension": ".py",
   "mimetype": "text/x-python",
   "name": "python",
   "nbconvert_exporter": "python",
   "pygments_lexer": "ipython3",
   "version": "3.5.1"
  }
 },
 "nbformat": 4,
 "nbformat_minor": 0
}
