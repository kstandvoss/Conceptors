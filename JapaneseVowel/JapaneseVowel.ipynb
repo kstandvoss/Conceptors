{
 "cells": [
  {
   "cell_type": "code",
   "execution_count": 46,
   "metadata": {
    "collapsed": false
   },
   "outputs": [
    {
     "name": "stdout",
     "output_type": "stream",
     "text": [
      "Pretty printing has been turned OFF\n"
     ]
    }
   ],
   "source": [
    "import numpy as np\n",
    "import numpy.polynomial.polynomial as poly\n",
    "import scipy as sp\n",
    "import scipy.interpolate \n",
    "from pprint import pprint\n",
    "import math\n",
    "%pprint"
   ]
  },
  {
   "cell_type": "code",
   "execution_count": 47,
   "metadata": {
    "collapsed": true
   },
   "outputs": [],
   "source": [
    "speakerN = 9\n",
    "trainSamplesNs = [30] * speakerN\n",
    "testSamplesNs = [31, 35, 88, 44, 29, 24, 40, 50, 29]\n",
    "channelsN = 12"
   ]
  },
  {
   "cell_type": "code",
   "execution_count": 48,
   "metadata": {
    "collapsed": true
   },
   "outputs": [],
   "source": [
    "def speakerFromSampleN(sampleN, sampleNs):\n",
    "    s = 0\n",
    "    for i, N in enumerate(sampleNs):\n",
    "        s += N\n",
    "        if s >= sampleN:\n",
    "            return i"
   ]
  },
  {
   "cell_type": "code",
   "execution_count": 49,
   "metadata": {
    "collapsed": true
   },
   "outputs": [],
   "source": [
    "def speakerNFromSampleN(sampleN, sampleNs):\n",
    "    return sampleNs[speakerFromSampleN(sampleN, sampleNs)]"
   ]
  },
  {
   "cell_type": "code",
   "execution_count": 50,
   "metadata": {
    "collapsed": false
   },
   "outputs": [],
   "source": [
    "def loadData(name):\n",
    "    samples = []\n",
    "    collector = []\n",
    "    with open(name) as f:\n",
    "        for line in f:\n",
    "            line = line.replace('\\r\\n', '')\n",
    "            if line == '':\n",
    "                continue\n",
    "            numbers = [float(x) for x in line.split()]\n",
    "            if all([x == 1.0 for x in numbers]):\n",
    "                samples.append(np.array(collector))\n",
    "                collector = []\n",
    "            else:\n",
    "                collector.append(numbers)\n",
    "    return samples\n",
    "\n",
    "trainDataRaw = loadData('ae.train')\n",
    "testDataRaw = loadData('ae.test')"
   ]
  },
  {
   "cell_type": "code",
   "execution_count": 51,
   "metadata": {
    "collapsed": false
   },
   "outputs": [],
   "source": [
    "def prepareData(data, sampleNs):\n",
    "    dataNew = []\n",
    "    for i,sample in enumerate(data):\n",
    "        l = len(sample)\n",
    "        sample = np.append(sample, (np.arange(1,l+1)/float(l)).reshape(l,1), axis = 1)\n",
    "        sample = np.append(sample, np.ones((l,1))*float(l)/speakerNFromSampleN(i, sampleNs), axis = 1)\n",
    "        dataNew.append(sample)\n",
    "    return dataNew\n",
    "        \n",
    "trainDataPrepared = prepareData(trainDataRaw, trainSamplesNs)\n",
    "testDataPrepared = prepareData(testDataRaw, testSamplesNs)"
   ]
  },
  {
   "cell_type": "code",
   "execution_count": 52,
   "metadata": {
    "collapsed": false,
    "scrolled": false
   },
   "outputs": [],
   "source": [
    "def prepareTargets(data, Ns):\n",
    "    targets = []\n",
    "    for speakerI, speakerSampleN in enumerate(Ns):\n",
    "        for n in xrange(speakerSampleN):\n",
    "            sample = data[len(targets)]\n",
    "            l = len(sample)\n",
    "            target = np.zeros((l,speakerN))\n",
    "            target[:, speakerI] = np.ones(l)\n",
    "            targets.append(target)\n",
    "    return targets\n",
    "        \n",
    "trainTargets = prepareTargets(trainDataPrepared, trainSamplesNs)\n",
    "testTargets = prepareTargets(testDataPrepared, testSamplesNs)"
   ]
  },
  {
   "cell_type": "code",
   "execution_count": 53,
   "metadata": {
    "collapsed": false,
    "scrolled": true
   },
   "outputs": [],
   "source": [
    "def normalizeData(data, shifts = None, scales = None):\n",
    "    allData = np.zeros((0,channelsN+2))\n",
    "    for sample in data:\n",
    "        allData = np.append(allData, sample, axis = 0)\n",
    "\n",
    "    \n",
    "    if shifts is None and scales is None:\n",
    "        maxVals = allData[:, 0:12].max(axis = 0)\n",
    "        minVals = allData[:, 0:12].min(axis = 0)\n",
    "        shifts = -minVals\n",
    "        scales = 1.0/(maxVals - minVals)\n",
    "    \n",
    "    \n",
    "    for i, sample in enumerate(data):\n",
    "        tmp = data[i][:, 0:12]\n",
    "        tmp += np.tile(shifts, (tmp.shape[0], 1))\n",
    "        tmp = np.dot(tmp, np.diag(scales))\n",
    "        data[i][:, 0:12] = tmp\n",
    "    \n",
    "    return data, shifts, scales\n",
    "    \n",
    "\n",
    "trainDataNormalized, trainShifts, trainScales = normalizeData(trainDataPrepared)\n",
    "testDataNormalized,_,_ = normalizeData(testDataPrepared, trainShifts, trainScales)"
   ]
  },
  {
   "cell_type": "code",
   "execution_count": 97,
   "metadata": {
    "collapsed": false
   },
   "outputs": [
    {
     "name": "stdout",
     "output_type": "stream",
     "text": [
      "(4, 12)\n"
     ]
    }
   ],
   "source": [
    "#Interpolate datapoints so that each sample has only four timesteps\n",
    "def smoothenData(data, smoothLength=4, polyOrder=3):\n",
    "    smoothend = []\n",
    "    newSample = np.zeros((4,12))\n",
    "    for sample in data:\n",
    "        size = sample.shape[0]\n",
    "        pos = np.arange(1,size+1)\n",
    "        interpolCoords = np.linspace(1,size,smoothLength) \n",
    "        polycoeff = poly.polyfit(range(size),sample[:,0:12],polyOrder)\n",
    "        sampleSmooth = poly.polyval(range(size), polycoeff)\n",
    "        for i in xrange(12):\n",
    "            newSample[:,i] = sp.interpolate.interp1d(pos,sampleSmooth[i])(interpolCoords)\n",
    "        smoothend.append(newSample) \n",
    "    return smoothend    \n",
    "\n",
    "trainDataSmoothend = smoothenData(trainDataNormalized)\n",
    "testDataSmoothend = smoothenData(testDataNormalized)"
   ]
  },
  {
   "cell_type": "code",
   "execution_count": null,
   "metadata": {
    "collapsed": false
   },
   "outputs": [],
   "source": []
  },
  {
   "cell_type": "code",
   "execution_count": null,
   "metadata": {
    "collapsed": true
   },
   "outputs": [],
   "source": []
  }
 ],
 "metadata": {
  "kernelspec": {
   "display_name": "Python 2",
   "language": "python",
   "name": "python2"
  },
  "language_info": {
   "codemirror_mode": {
    "name": "ipython",
    "version": 2
   },
   "file_extension": ".py",
   "mimetype": "text/x-python",
   "name": "python",
   "nbconvert_exporter": "python",
   "pygments_lexer": "ipython2",
   "version": "2.7.10"
  }
 },
 "nbformat": 4,
 "nbformat_minor": 0
}
